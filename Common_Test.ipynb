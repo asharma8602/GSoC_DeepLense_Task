{
 "cells": [
  {
   "cell_type": "code",
   "execution_count": 1,
   "metadata": {
    "colab": {
     "base_uri": "https://localhost:8080/"
    },
    "executionInfo": {
     "elapsed": 80208,
     "status": "ok",
     "timestamp": 1710185659363,
     "user": {
      "displayName": "Ashutosh Sharma",
      "userId": "03950969127841131337"
     },
     "user_tz": -330
    },
    "id": "uUI95Z6Vsr__",
    "outputId": "4438dbfd-3cfd-4cf2-d783-81504784d952"
   },
   "outputs": [
    {
     "name": "stdout",
     "output_type": "stream",
     "text": [
      "Mounted at /content/drive\n"
     ]
    }
   ],
   "source": [
    "from google.colab import drive\n",
    "drive.mount('/content/drive')"
   ]
  },
  {
   "cell_type": "markdown",
   "metadata": {},
   "source": [
    "# **Submission for Common Test I. Multi-Class Classification**\n",
    "\n",
    "**Task:** Build a model for classifying the images into lenses using PyTorch or Keras. Pick the most appropriate approach and discuss your strategy.\n",
    "\n",
    "**Dataset:** dataset.zip - Google Drive\n",
    "\n",
    "**Dataset Description:** The Dataset consists of three classes, strong lensing images with no substructure, subhalo substructure, and vortex substructure. The images have been normalized using min-max normalization, but you are free to use any normalization or data augmentation methods to improve your results.\n",
    "\n",
    "**Evaluation Metrics:** ROC curve (Receiver Operating Characteristic curve) and AUC score (Area Under the ROC Curve) "
   ]
  },
  {
   "cell_type": "markdown",
   "metadata": {},
   "source": [
    "### Solution:\n",
    "\n",
    "*Here I have implemented an ensemble for only one epoch due to computational limits at my end. But the similar code can be implemented to train various models for more epochs to attain a better classification and also choose the better model by comparing them.*"
   ]
  },
  {
   "cell_type": "markdown",
   "metadata": {},
   "source": [
    "# Statergy\n",
    "\n",
    "The motivation behind using the ensemble model was the fact to reduce generalisation error and rather use the fact that this type of model seeks the wisdom of a crowd to make a prediction. Though the best answer would be obtained when these different models are trained and compared because the best model depends on the data firstly both quality and size but also as here computational resources is a concern training multiple models is not possible."
   ]
  },
  {
   "cell_type": "code",
   "execution_count": 1,
   "metadata": {
    "colab": {
     "base_uri": "https://localhost:8080/"
    },
    "execution": {
     "iopub.execute_input": "2024-03-12T04:32:48.654089Z",
     "iopub.status.busy": "2024-03-12T04:32:48.653308Z",
     "iopub.status.idle": "2024-03-12T04:33:02.630131Z",
     "shell.execute_reply": "2024-03-12T04:33:02.629173Z",
     "shell.execute_reply.started": "2024-03-12T04:32:48.654055Z"
    },
    "executionInfo": {
     "elapsed": 8517,
     "status": "ok",
     "timestamp": 1710185674448,
     "user": {
      "displayName": "Ashutosh Sharma",
      "userId": "03950969127841131337"
     },
     "user_tz": -330
    },
    "id": "TVjXJ-iSaVdt",
    "outputId": "549b768c-507a-4cbc-cdb4-97e9844667f4"
   },
   "outputs": [
    {
     "name": "stdout",
     "output_type": "stream",
     "text": [
      "Requirement already satisfied: timm in /opt/conda/lib/python3.10/site-packages (0.9.16)\n",
      "Requirement already satisfied: torch in /opt/conda/lib/python3.10/site-packages (from timm) (2.1.2)\n",
      "Requirement already satisfied: torchvision in /opt/conda/lib/python3.10/site-packages (from timm) (0.16.2)\n",
      "Requirement already satisfied: pyyaml in /opt/conda/lib/python3.10/site-packages (from timm) (6.0.1)\n",
      "Requirement already satisfied: huggingface_hub in /opt/conda/lib/python3.10/site-packages (from timm) (0.20.3)\n",
      "Requirement already satisfied: safetensors in /opt/conda/lib/python3.10/site-packages (from timm) (0.4.2)\n",
      "Requirement already satisfied: filelock in /opt/conda/lib/python3.10/site-packages (from huggingface_hub->timm) (3.13.1)\n",
      "Requirement already satisfied: fsspec>=2023.5.0 in /opt/conda/lib/python3.10/site-packages (from huggingface_hub->timm) (2024.2.0)\n",
      "Requirement already satisfied: requests in /opt/conda/lib/python3.10/site-packages (from huggingface_hub->timm) (2.31.0)\n",
      "Requirement already satisfied: tqdm>=4.42.1 in /opt/conda/lib/python3.10/site-packages (from huggingface_hub->timm) (4.66.1)\n",
      "Requirement already satisfied: typing-extensions>=3.7.4.3 in /opt/conda/lib/python3.10/site-packages (from huggingface_hub->timm) (4.9.0)\n",
      "Requirement already satisfied: packaging>=20.9 in /opt/conda/lib/python3.10/site-packages (from huggingface_hub->timm) (21.3)\n",
      "Requirement already satisfied: sympy in /opt/conda/lib/python3.10/site-packages (from torch->timm) (1.12)\n",
      "Requirement already satisfied: networkx in /opt/conda/lib/python3.10/site-packages (from torch->timm) (3.2.1)\n",
      "Requirement already satisfied: jinja2 in /opt/conda/lib/python3.10/site-packages (from torch->timm) (3.1.2)\n",
      "Requirement already satisfied: numpy in /opt/conda/lib/python3.10/site-packages (from torchvision->timm) (1.26.4)\n",
      "Requirement already satisfied: pillow!=8.3.*,>=5.3.0 in /opt/conda/lib/python3.10/site-packages (from torchvision->timm) (9.5.0)\n",
      "Requirement already satisfied: pyparsing!=3.0.5,>=2.0.2 in /opt/conda/lib/python3.10/site-packages (from packaging>=20.9->huggingface_hub->timm) (3.1.1)\n",
      "Requirement already satisfied: MarkupSafe>=2.0 in /opt/conda/lib/python3.10/site-packages (from jinja2->torch->timm) (2.1.3)\n",
      "Requirement already satisfied: charset-normalizer<4,>=2 in /opt/conda/lib/python3.10/site-packages (from requests->huggingface_hub->timm) (3.3.2)\n",
      "Requirement already satisfied: idna<4,>=2.5 in /opt/conda/lib/python3.10/site-packages (from requests->huggingface_hub->timm) (3.6)\n",
      "Requirement already satisfied: urllib3<3,>=1.21.1 in /opt/conda/lib/python3.10/site-packages (from requests->huggingface_hub->timm) (1.26.18)\n",
      "Requirement already satisfied: certifi>=2017.4.17 in /opt/conda/lib/python3.10/site-packages (from requests->huggingface_hub->timm) (2024.2.2)\n",
      "Requirement already satisfied: mpmath>=0.19 in /opt/conda/lib/python3.10/site-packages (from sympy->torch->timm) (1.3.0)\n"
     ]
    }
   ],
   "source": [
    "!pip install timm"
   ]
  },
  {
   "cell_type": "code",
   "execution_count": 2,
   "metadata": {
    "execution": {
     "iopub.execute_input": "2024-03-12T04:33:11.517861Z",
     "iopub.status.busy": "2024-03-12T04:33:11.517472Z",
     "iopub.status.idle": "2024-03-12T04:33:19.538016Z",
     "shell.execute_reply": "2024-03-12T04:33:19.537194Z",
     "shell.execute_reply.started": "2024-03-12T04:33:11.517831Z"
    },
    "executionInfo": {
     "elapsed": 6305,
     "status": "ok",
     "timestamp": 1710185680746,
     "user": {
      "displayName": "Ashutosh Sharma",
      "userId": "03950969127841131337"
     },
     "user_tz": -330
    },
    "id": "1xy5JLPa74KM"
   },
   "outputs": [],
   "source": [
    "import os\n",
    "import glob\n",
    "from pandas.core.common import flatten\n",
    "import timm"
   ]
  },
  {
   "cell_type": "code",
   "execution_count": 3,
   "metadata": {
    "execution": {
     "iopub.execute_input": "2024-03-12T04:33:19.539865Z",
     "iopub.status.busy": "2024-03-12T04:33:19.539542Z",
     "iopub.status.idle": "2024-03-12T04:33:19.544057Z",
     "shell.execute_reply": "2024-03-12T04:33:19.543132Z",
     "shell.execute_reply.started": "2024-03-12T04:33:19.539840Z"
    },
    "executionInfo": {
     "elapsed": 6,
     "status": "ok",
     "timestamp": 1710185680746,
     "user": {
      "displayName": "Ashutosh Sharma",
      "userId": "03950969127841131337"
     },
     "user_tz": -330
    },
    "id": "RpMYwkKelvgt"
   },
   "outputs": [],
   "source": [
    "from collections import Counter\n",
    "from collections import defaultdict"
   ]
  },
  {
   "cell_type": "code",
   "execution_count": 4,
   "metadata": {
    "execution": {
     "iopub.execute_input": "2024-03-12T04:33:19.545503Z",
     "iopub.status.busy": "2024-03-12T04:33:19.545241Z",
     "iopub.status.idle": "2024-03-12T04:33:20.424380Z",
     "shell.execute_reply": "2024-03-12T04:33:20.423489Z",
     "shell.execute_reply.started": "2024-03-12T04:33:19.545481Z"
    },
    "executionInfo": {
     "elapsed": 1339,
     "status": "ok",
     "timestamp": 1710185682080,
     "user": {
      "displayName": "Ashutosh Sharma",
      "userId": "03950969127841131337"
     },
     "user_tz": -330
    },
    "id": "Xm9qI6KEsCfD"
   },
   "outputs": [],
   "source": [
    "import numpy as np\n",
    "import pandas as pd\n",
    "import seaborn as sns\n",
    "from tqdm.notebook import tqdm\n",
    "import matplotlib.pyplot as plt\n",
    "import torch\n",
    "import torchvision\n",
    "import torch.nn as nn\n",
    "import torch.optim as optim\n",
    "import torch.nn.functional as F\n",
    "from torchvision import transforms, utils, datasets\n",
    "from torch.utils.data import Dataset, DataLoader, SubsetRandomSampler\n",
    "from sklearn.metrics import classification_report, confusion_matrix"
   ]
  },
  {
   "cell_type": "code",
   "execution_count": 5,
   "metadata": {
    "execution": {
     "iopub.execute_input": "2024-03-12T04:33:20.426807Z",
     "iopub.status.busy": "2024-03-12T04:33:20.426323Z",
     "iopub.status.idle": "2024-03-12T04:33:20.430898Z",
     "shell.execute_reply": "2024-03-12T04:33:20.430002Z",
     "shell.execute_reply.started": "2024-03-12T04:33:20.426780Z"
    },
    "executionInfo": {
     "elapsed": 13,
     "status": "ok",
     "timestamp": 1710185682080,
     "user": {
      "displayName": "Ashutosh Sharma",
      "userId": "03950969127841131337"
     },
     "user_tz": -330
    },
    "id": "13lvWjQvs4wV"
   },
   "outputs": [],
   "source": [
    "# !unzip \"/content/drive/MyDrive/dataset.zip\" -d \"/content/drive/MyDrive/dataset\""
   ]
  },
  {
   "cell_type": "code",
   "execution_count": 6,
   "metadata": {
    "colab": {
     "base_uri": "https://localhost:8080/"
    },
    "execution": {
     "iopub.execute_input": "2024-03-12T04:33:20.432820Z",
     "iopub.status.busy": "2024-03-12T04:33:20.432229Z",
     "iopub.status.idle": "2024-03-12T04:33:20.447106Z",
     "shell.execute_reply": "2024-03-12T04:33:20.446233Z",
     "shell.execute_reply.started": "2024-03-12T04:33:20.432786Z"
    },
    "executionInfo": {
     "elapsed": 7,
     "status": "ok",
     "timestamp": 1710185682080,
     "user": {
      "displayName": "Ashutosh Sharma",
      "userId": "03950969127841131337"
     },
     "user_tz": -330
    },
    "id": "zdOoQ96Fs7D-",
    "outputId": "c8d3cb13-5cf4-4ae5-c8d9-89e34fb4074e"
   },
   "outputs": [
    {
     "data": {
      "text/plain": [
       "<torch._C.Generator at 0x795cf44a15d0>"
      ]
     },
     "execution_count": 6,
     "metadata": {},
     "output_type": "execute_result"
    }
   ],
   "source": [
    "np.random.seed(0)\n",
    "torch.manual_seed(0)"
   ]
  },
  {
   "cell_type": "code",
   "execution_count": 7,
   "metadata": {
    "execution": {
     "iopub.execute_input": "2024-03-12T04:33:20.450324Z",
     "iopub.status.busy": "2024-03-12T04:33:20.450005Z",
     "iopub.status.idle": "2024-03-12T04:33:20.455792Z",
     "shell.execute_reply": "2024-03-12T04:33:20.454803Z",
     "shell.execute_reply.started": "2024-03-12T04:33:20.450289Z"
    },
    "executionInfo": {
     "elapsed": 4,
     "status": "ok",
     "timestamp": 1710185682080,
     "user": {
      "displayName": "Ashutosh Sharma",
      "userId": "03950969127841131337"
     },
     "user_tz": -330
    },
    "id": "_W5DPo6pweqp"
   },
   "outputs": [],
   "source": [
    "%matplotlib inline\n",
    "sns.set_style('darkgrid')"
   ]
  },
  {
   "cell_type": "code",
   "execution_count": 8,
   "metadata": {
    "colab": {
     "base_uri": "https://localhost:8080/"
    },
    "execution": {
     "iopub.execute_input": "2024-03-12T04:33:20.457733Z",
     "iopub.status.busy": "2024-03-12T04:33:20.457135Z",
     "iopub.status.idle": "2024-03-12T04:33:20.487895Z",
     "shell.execute_reply": "2024-03-12T04:33:20.486804Z",
     "shell.execute_reply.started": "2024-03-12T04:33:20.457700Z"
    },
    "executionInfo": {
     "elapsed": 807,
     "status": "ok",
     "timestamp": 1710185682884,
     "user": {
      "displayName": "Ashutosh Sharma",
      "userId": "03950969127841131337"
     },
     "user_tz": -330
    },
    "id": "kzxtiRo3whEN",
    "outputId": "7d6f5825-f70e-4ba3-f98e-dabaa2b41774"
   },
   "outputs": [
    {
     "name": "stdout",
     "output_type": "stream",
     "text": [
      "We're using => cuda\n",
      "The data lies here => /kaggle/input/deeplense\n"
     ]
    }
   ],
   "source": [
    "device = torch.device(\"cuda\" if torch.cuda.is_available() else \"cpu\")\n",
    "print(\"We're using =>\", device)\n",
    "root_dir = \"/kaggle/input/deeplense\"\n",
    "print(\"The data lies here =>\", root_dir)"
   ]
  },
  {
   "cell_type": "code",
   "execution_count": 9,
   "metadata": {
    "execution": {
     "iopub.execute_input": "2024-03-12T04:33:20.489367Z",
     "iopub.status.busy": "2024-03-12T04:33:20.489088Z",
     "iopub.status.idle": "2024-03-12T04:33:20.499368Z",
     "shell.execute_reply": "2024-03-12T04:33:20.498460Z",
     "shell.execute_reply.started": "2024-03-12T04:33:20.489343Z"
    },
    "executionInfo": {
     "elapsed": 4,
     "status": "ok",
     "timestamp": 1710185682884,
     "user": {
      "displayName": "Ashutosh Sharma",
      "userId": "03950969127841131337"
     },
     "user_tz": -330
    },
    "id": "qMcD03v7yJXc"
   },
   "outputs": [],
   "source": [
    "train_base_path = \"/kaggle/input/deeplense/dataset/train\"\n",
    "val_base_path = \"/kaggle/input/deeplense/dataset/val\"\n",
    "class_folders = [\"no\", \"sphere\", \"vort\"]"
   ]
  },
  {
   "cell_type": "code",
   "execution_count": 10,
   "metadata": {
    "colab": {
     "base_uri": "https://localhost:8080/"
    },
    "execution": {
     "iopub.execute_input": "2024-03-12T04:33:22.482430Z",
     "iopub.status.busy": "2024-03-12T04:33:22.481776Z",
     "iopub.status.idle": "2024-03-12T04:33:23.180158Z",
     "shell.execute_reply": "2024-03-12T04:33:23.179270Z",
     "shell.execute_reply.started": "2024-03-12T04:33:22.482401Z"
    },
    "executionInfo": {
     "elapsed": 58682,
     "status": "ok",
     "timestamp": 1710185741563,
     "user": {
      "displayName": "Ashutosh Sharma",
      "userId": "03950969127841131337"
     },
     "user_tz": -330
    },
    "id": "n27m8aFGRMHV",
    "outputId": "0c4b5248-a8fa-4cab-b18b-af4bc23d0218"
   },
   "outputs": [
    {
     "name": "stdout",
     "output_type": "stream",
     "text": [
      "Train Size: 30000\n",
      "Val Size: 30000\n"
     ]
    }
   ],
   "source": [
    "train_image_paths = []\n",
    "val_image_paths = []\n",
    "classes = []\n",
    "\n",
    "for train_data_path in glob.glob(train_base_path + \"/*\"):\n",
    "    classes.append(train_data_path.split(\"/\")[-1])\n",
    "    train_image_paths.append(glob.glob(train_data_path + \"/*\"))\n",
    "\n",
    "for val_data_path in glob.glob(train_base_path + \"/*\"):\n",
    "    val_image_paths.append(glob.glob(val_data_path + \"/*\"))\n",
    "\n",
    "train_image_paths = list(flatten(train_image_paths))\n",
    "val_image_paths = list(flatten(val_image_paths))\n",
    "\n",
    "print(f\"Train Size: {len(train_image_paths)}\\nVal Size: {len(val_image_paths)}\")"
   ]
  },
  {
   "cell_type": "code",
   "execution_count": 11,
   "metadata": {
    "colab": {
     "base_uri": "https://localhost:8080/"
    },
    "execution": {
     "iopub.execute_input": "2024-03-12T04:33:28.336326Z",
     "iopub.status.busy": "2024-03-12T04:33:28.335959Z",
     "iopub.status.idle": "2024-03-12T04:33:28.341066Z",
     "shell.execute_reply": "2024-03-12T04:33:28.340139Z",
     "shell.execute_reply.started": "2024-03-12T04:33:28.336297Z"
    },
    "executionInfo": {
     "elapsed": 14,
     "status": "ok",
     "timestamp": 1710185741563,
     "user": {
      "displayName": "Ashutosh Sharma",
      "userId": "03950969127841131337"
     },
     "user_tz": -330
    },
    "id": "Ax3T-U9xY_8Q",
    "outputId": "f85ab67e-3927-45c3-b5c2-c6a1673da946"
   },
   "outputs": [
    {
     "name": "stdout",
     "output_type": "stream",
     "text": [
      "['no', 'vort', 'sphere']\n"
     ]
    }
   ],
   "source": [
    "print(classes)"
   ]
  },
  {
   "cell_type": "code",
   "execution_count": 12,
   "metadata": {
    "colab": {
     "base_uri": "https://localhost:8080/"
    },
    "execution": {
     "iopub.execute_input": "2024-03-12T04:33:29.743917Z",
     "iopub.status.busy": "2024-03-12T04:33:29.743334Z",
     "iopub.status.idle": "2024-03-12T04:33:29.749569Z",
     "shell.execute_reply": "2024-03-12T04:33:29.748572Z",
     "shell.execute_reply.started": "2024-03-12T04:33:29.743886Z"
    },
    "executionInfo": {
     "elapsed": 13,
     "status": "ok",
     "timestamp": 1710185741564,
     "user": {
      "displayName": "Ashutosh Sharma",
      "userId": "03950969127841131337"
     },
     "user_tz": -330
    },
    "id": "KE_DJmU5ZFMW",
    "outputId": "6bfb93d5-ff91-4e26-8fa1-f4a94596a365"
   },
   "outputs": [
    {
     "name": "stdout",
     "output_type": "stream",
     "text": [
      "Index to class dictionary: {0: 'no', 1: 'vort', 2: 'sphere'}\n",
      "Class to index dictionary: {'no': 0, 'vort': 1, 'sphere': 2}\n"
     ]
    }
   ],
   "source": [
    "idx_to_class = {i: j for i, j in enumerate(classes)}\n",
    "class_to_idx = {value: key for key, value in idx_to_class.items()}\n",
    "\n",
    "print(f\"Index to class dictionary: {idx_to_class}\")\n",
    "print(f\"Class to index dictionary: {class_to_idx}\")"
   ]
  },
  {
   "cell_type": "code",
   "execution_count": 13,
   "metadata": {
    "execution": {
     "iopub.execute_input": "2024-03-12T04:33:31.116536Z",
     "iopub.status.busy": "2024-03-12T04:33:31.115875Z",
     "iopub.status.idle": "2024-03-12T04:33:31.125191Z",
     "shell.execute_reply": "2024-03-12T04:33:31.124134Z",
     "shell.execute_reply.started": "2024-03-12T04:33:31.116499Z"
    },
    "executionInfo": {
     "elapsed": 10,
     "status": "ok",
     "timestamp": 1710185741564,
     "user": {
      "displayName": "Ashutosh Sharma",
      "userId": "03950969127841131337"
     },
     "user_tz": -330
    },
    "id": "Zpv6KvNC1NDn"
   },
   "outputs": [],
   "source": [
    "class NPYDataset(Dataset):\n",
    "    def __init__(self, image_paths, transform=False):\n",
    "        self.image_paths = image_paths\n",
    "        self.transform = transform\n",
    "\n",
    "    def __len__(self):\n",
    "        return len(self.image_paths)\n",
    "\n",
    "    def __getitem__(self, idx):\n",
    "        image_filepath = self.image_paths[idx]\n",
    "        image = np.load(image_filepath)\n",
    "\n",
    "        if(self.transform is not False):\n",
    "            image = self.transform(image=image)[\"image\"]\n",
    "\n",
    "        label = image_filepath.split(\"/\")[-2]\n",
    "        label = class_to_idx[label]\n",
    "\n",
    "        return image, label\n",
    "\n",
    "train_dataset = NPYDataset(image_paths=train_image_paths, transform=False)\n",
    "val_dataset = NPYDataset(image_paths=val_image_paths, transform=False)"
   ]
  },
  {
   "cell_type": "markdown",
   "metadata": {},
   "source": [
    "# Creating Dataloaders"
   ]
  },
  {
   "cell_type": "code",
   "execution_count": 14,
   "metadata": {
    "execution": {
     "iopub.execute_input": "2024-03-12T04:33:32.065908Z",
     "iopub.status.busy": "2024-03-12T04:33:32.065289Z",
     "iopub.status.idle": "2024-03-12T04:33:32.070882Z",
     "shell.execute_reply": "2024-03-12T04:33:32.069702Z",
     "shell.execute_reply.started": "2024-03-12T04:33:32.065877Z"
    },
    "executionInfo": {
     "elapsed": 1,
     "status": "ok",
     "timestamp": 1710185782318,
     "user": {
      "displayName": "Ashutosh Sharma",
      "userId": "03950969127841131337"
     },
     "user_tz": -330
    },
    "id": "-INX-cNq-ek0"
   },
   "outputs": [],
   "source": [
    "train_loader = DataLoader(train_dataset, batch_size=32, shuffle=True)\n",
    "val_loader = DataLoader(val_dataset, batch_size=32, shuffle=False)"
   ]
  },
  {
   "cell_type": "code",
   "execution_count": 15,
   "metadata": {
    "execution": {
     "iopub.execute_input": "2024-03-12T04:33:32.909233Z",
     "iopub.status.busy": "2024-03-12T04:33:32.908289Z",
     "iopub.status.idle": "2024-03-12T04:33:32.941676Z",
     "shell.execute_reply": "2024-03-12T04:33:32.940518Z",
     "shell.execute_reply.started": "2024-03-12T04:33:32.909187Z"
    },
    "executionInfo": {
     "elapsed": 2,
     "status": "ok",
     "timestamp": 1710185783019,
     "user": {
      "displayName": "Ashutosh Sharma",
      "userId": "03950969127841131337"
     },
     "user_tz": -330
    },
    "id": "ONqwBJCL-juU"
   },
   "outputs": [],
   "source": [
    "class TransferLearningModelOld(nn.Module):\n",
    "\n",
    "    def __init__(self, n_classes):\n",
    "        super(TransferLearningModelOld, self).__init__()\n",
    "        self.transfer_learning_model = timm.create_model('densenet161', pretrained=True, in_chans=1)\n",
    "\n",
    "        for param in self.transfer_learning_model.parameters():\n",
    "            param.requires_grad = True\n",
    "\n",
    "        self.classifier = nn.Sequential(\n",
    "            nn.Linear(2208 * 4 * 4, 1024),\n",
    "            nn.ReLU(),\n",
    "            nn.BatchNorm1d(1024),\n",
    "            nn.Dropout(p=0.25),\n",
    "            nn.Linear(1024, 64),\n",
    "            nn.ReLU(),\n",
    "            nn.BatchNorm1d(64),\n",
    "            nn.Dropout(p=0.25),\n",
    "            nn.Linear(64, n_classes)\n",
    "        )\n",
    "\n",
    "    def forward(self, x):\n",
    "        x = self.transfer_learning_model.forward_features(x)\n",
    "        x = x.view(-1, 2208 * 4 * 4)\n",
    "        x = self.classifier(x)\n",
    "\n",
    "        return x\n",
    "\n",
    "class TransferLearningModelNew(nn.Module):\n",
    "\n",
    "    def __init__(self, n_classes):\n",
    "        super(TransferLearningModelNew, self).__init__()\n",
    "        self.transfer_learning_model = timm.create_model('densenet161', pretrained=True, in_chans=1)\n",
    "\n",
    "        for param in self.transfer_learning_model.parameters():\n",
    "            param.requires_grad = True\n",
    "\n",
    "        self.classifier = nn.Sequential(\n",
    "            nn.Linear(2208 * 4 * 4, 1024),\n",
    "            nn.ReLU(),\n",
    "            nn.BatchNorm1d(1024),\n",
    "            nn.Dropout(p=0.33),\n",
    "            nn.Linear(1024, 64),\n",
    "            nn.ReLU(),\n",
    "            nn.BatchNorm1d(64),\n",
    "            nn.Dropout(p=0.33),\n",
    "            nn.Linear(64, n_classes)\n",
    "        )\n",
    "\n",
    "    def forward(self, x):\n",
    "        x = self.transfer_learning_model.forward_features(x)\n",
    "        x = x.view(-1, 2208 * 4 * 4)\n",
    "        x = self.classifier(x)\n",
    "\n",
    "        return x\n",
    "\n",
    "class DenseNet201(nn.Module):\n",
    "\n",
    "    def __init__(self, n_classes):\n",
    "        super(DenseNet201, self).__init__()\n",
    "        self.transfer_learning_model = timm.create_model(\"densenet201\", pretrained=True, in_chans=1)\n",
    "\n",
    "        for param in self.transfer_learning_model.parameters():\n",
    "            param.requires_grad = True\n",
    "\n",
    "        self.classifier = nn.Sequential(\n",
    "            nn.Linear(1920 * 4 * 4, 1024),\n",
    "            nn.ReLU(),\n",
    "            nn.BatchNorm1d(1024),\n",
    "            nn.Dropout(p=0.33),\n",
    "            nn.Linear(1024, 64),\n",
    "            nn.ReLU(),\n",
    "            nn.BatchNorm1d(64),\n",
    "            nn.Dropout(p=0.33),\n",
    "            nn.Linear(64, n_classes)\n",
    "        )\n",
    "\n",
    "    def forward(self, x):\n",
    "        x = self.transfer_learning_model.forward_features(x)\n",
    "#         print(x.shape)\n",
    "        x = x.view(-1, 1920 * 4 * 4)\n",
    "        x = self.classifier(x)\n",
    "\n",
    "        return x\n",
    "\n",
    "class MobileVitV2_150(nn.Module):\n",
    "\n",
    "    def __init__(self, n_classes):\n",
    "\n",
    "        super(MobileVitV2_150, self).__init__()\n",
    "\n",
    "        self.vit_model = timm.create_model(\"mobilevitv2_150_384_in22ft1k\", pretrained=True, in_chans=1)\n",
    "\n",
    "        for param in self.vit_model.parameters():\n",
    "            param.requires_grad = True\n",
    "\n",
    "        self.classifier = nn.Sequential(\n",
    "            nn.Linear(768 * 6 * 6, 512),\n",
    "            nn.ReLU(),\n",
    "            nn.BatchNorm1d(512),\n",
    "            nn.Dropout(p=0.3),\n",
    "            nn.Linear(512, 64),\n",
    "            nn.ReLU(),\n",
    "            nn.BatchNorm1d(64),\n",
    "            nn.Dropout(p=0.3),\n",
    "            nn.Linear(64, n_classes)\n",
    "        )\n",
    "\n",
    "    def forward(self, x):\n",
    "        x = self.vit_model.forward_features(x)\n",
    "#         print(x.shape)\n",
    "        x = x.reshape(-1, 768 * 6 * 6)\n",
    "        x = self.classifier(x)\n",
    "\n",
    "        return x\n",
    "\n",
    "# (test performance of an ensemble)\n",
    "class DenseNetEnsemble(nn.Module):\n",
    "\n",
    "    def __init__(self, n_classes, modela, modelb):\n",
    "\n",
    "        super(DenseNetEnsemble, self).__init__()\n",
    "\n",
    "        self.modela = modela\n",
    "        self.modelb = modelb\n",
    "\n",
    "    def forward(self, x):\n",
    "        outa = self.modela(x)\n",
    "        outb = self.modelb(x)\n",
    "        out = outa + outb\n",
    "        x = out\n",
    "\n",
    "        return x"
   ]
  },
  {
   "cell_type": "code",
   "execution_count": 16,
   "metadata": {
    "execution": {
     "iopub.execute_input": "2024-03-12T04:33:33.603562Z",
     "iopub.status.busy": "2024-03-12T04:33:33.603226Z",
     "iopub.status.idle": "2024-03-12T04:33:37.719338Z",
     "shell.execute_reply": "2024-03-12T04:33:37.718371Z",
     "shell.execute_reply.started": "2024-03-12T04:33:33.603537Z"
    },
    "executionInfo": {
     "elapsed": 1918,
     "status": "ok",
     "timestamp": 1710185785967,
     "user": {
      "displayName": "Ashutosh Sharma",
      "userId": "03950969127841131337"
     },
     "user_tz": -330
    },
    "id": "X30iGNPJBDIc"
   },
   "outputs": [
    {
     "data": {
      "application/vnd.jupyter.widget-view+json": {
       "model_id": "79c37a12c3944edaaec69980943d88cb",
       "version_major": 2,
       "version_minor": 0
      },
      "text/plain": [
       "model.safetensors:   0%|          | 0.00/116M [00:00<?, ?B/s]"
      ]
     },
     "metadata": {},
     "output_type": "display_data"
    },
    {
     "data": {
      "application/vnd.jupyter.widget-view+json": {
       "model_id": "b0b71f9e7b2445bca36c83acbff40f13",
       "version_major": 2,
       "version_minor": 0
      },
      "text/plain": [
       "model.safetensors:   0%|          | 0.00/81.1M [00:00<?, ?B/s]"
      ]
     },
     "metadata": {},
     "output_type": "display_data"
    }
   ],
   "source": [
    "modela = TransferLearningModelNew(len(classes))\n",
    "modela = modela.to(device)\n",
    "\n",
    "modelb = DenseNet201(len(classes))\n",
    "modelb = modelb.to(device)\n",
    "\n",
    "model = DenseNetEnsemble(len(classes), modela, modelb)\n",
    "model = model.to(device)"
   ]
  },
  {
   "cell_type": "code",
   "execution_count": 17,
   "metadata": {
    "execution": {
     "iopub.execute_input": "2024-03-12T04:33:37.721473Z",
     "iopub.status.busy": "2024-03-12T04:33:37.721171Z",
     "iopub.status.idle": "2024-03-12T04:33:37.733872Z",
     "shell.execute_reply": "2024-03-12T04:33:37.732999Z",
     "shell.execute_reply.started": "2024-03-12T04:33:37.721448Z"
    },
    "executionInfo": {
     "elapsed": 9,
     "status": "ok",
     "timestamp": 1710185785967,
     "user": {
      "displayName": "Ashutosh Sharma",
      "userId": "03950969127841131337"
     },
     "user_tz": -330
    },
    "id": "CQq8lO7Wi3Ik"
   },
   "outputs": [],
   "source": [
    "criterion = torch.nn.CrossEntropyLoss()\n",
    "optimizer = torch.optim.Adam(model.parameters(), lr=1e-4)"
   ]
  },
  {
   "cell_type": "code",
   "execution_count": 18,
   "metadata": {
    "execution": {
     "iopub.execute_input": "2024-03-12T04:33:37.735434Z",
     "iopub.status.busy": "2024-03-12T04:33:37.735065Z",
     "iopub.status.idle": "2024-03-12T04:33:37.749768Z",
     "shell.execute_reply": "2024-03-12T04:33:37.748824Z",
     "shell.execute_reply.started": "2024-03-12T04:33:37.735400Z"
    },
    "executionInfo": {
     "elapsed": 9,
     "status": "ok",
     "timestamp": 1710185785968,
     "user": {
      "displayName": "Ashutosh Sharma",
      "userId": "03950969127841131337"
     },
     "user_tz": -330
    },
    "id": "j3TpB2xxCaeV"
   },
   "outputs": [],
   "source": [
    "def train_one_epoch(model, optimizer, data_loader, device):\n",
    "\n",
    "    model.train()\n",
    "\n",
    "    total = 0\n",
    "    correct = 0\n",
    "    train_accuracy = []\n",
    "    train_loss = []\n",
    "\n",
    "    for i, data in enumerate(tqdm(data_loader)):\n",
    "        images, labels = data\n",
    "        images = images.to(device)\n",
    "        labels = labels.to(device)\n",
    "\n",
    "        y_pred = model(images.float())\n",
    "        loss = criterion(y_pred, labels)\n",
    "\n",
    "        _, predicted = torch.max(y_pred.data, 1)\n",
    "        total += labels.size(0)\n",
    "        correct += (predicted == labels).sum().item()\n",
    "        accuracy = 100 * correct / total\n",
    "\n",
    "        optimizer.zero_grad()\n",
    "        loss.backward()\n",
    "        optimizer.step()\n",
    "\n",
    "        if(i % 10 == 0):\n",
    "            print(f\"Loss: {loss}, Accuracy: {accuracy}\")\n",
    "\n",
    "        train_accuracy.append(torch.tensor(accuracy))\n",
    "        train_loss.append(torch.tensor(loss))\n",
    "\n",
    "    return train_accuracy, train_loss"
   ]
  },
  {
   "cell_type": "code",
   "execution_count": 19,
   "metadata": {
    "execution": {
     "iopub.execute_input": "2024-03-12T04:33:37.752078Z",
     "iopub.status.busy": "2024-03-12T04:33:37.751793Z",
     "iopub.status.idle": "2024-03-12T04:33:37.760861Z",
     "shell.execute_reply": "2024-03-12T04:33:37.759854Z",
     "shell.execute_reply.started": "2024-03-12T04:33:37.752054Z"
    },
    "executionInfo": {
     "elapsed": 8,
     "status": "ok",
     "timestamp": 1710185785968,
     "user": {
      "displayName": "Ashutosh Sharma",
      "userId": "03950969127841131337"
     },
     "user_tz": -330
    },
    "id": "Nj_5NG6AmRRx"
   },
   "outputs": [],
   "source": [
    "def test_model(model, data_loader, device):\n",
    "\n",
    "    model.eval()\n",
    "\n",
    "    total = 0\n",
    "    correct = 0\n",
    "    val_accuracy = []\n",
    "    val_loss = []\n",
    "\n",
    "    with torch.no_grad():\n",
    "        for i, data in enumerate(tqdm(data_loader)):\n",
    "            images, labels = data\n",
    "\n",
    "            images = images.to(device)\n",
    "            labels = labels.to(device)\n",
    "\n",
    "            y_pred = model(images.float())\n",
    "            loss = criterion(y_pred, labels)\n",
    "\n",
    "            _, predicted = torch.max(y_pred.data, 1)\n",
    "            total += labels.size(0)\n",
    "            correct += (predicted == labels).sum().item()\n",
    "            accuracy = 100 * correct / total\n",
    "\n",
    "            val_accuracy.append(torch.tensor(accuracy))\n",
    "            val_loss.append(torch.tensor(loss))\n",
    "\n",
    "    return val_accuracy, val_loss"
   ]
  },
  {
   "cell_type": "code",
   "execution_count": 20,
   "metadata": {
    "execution": {
     "iopub.execute_input": "2024-03-12T04:33:37.762308Z",
     "iopub.status.busy": "2024-03-12T04:33:37.761984Z",
     "iopub.status.idle": "2024-03-12T04:33:37.771719Z",
     "shell.execute_reply": "2024-03-12T04:33:37.770880Z",
     "shell.execute_reply.started": "2024-03-12T04:33:37.762262Z"
    },
    "executionInfo": {
     "elapsed": 8,
     "status": "ok",
     "timestamp": 1710185785969,
     "user": {
      "displayName": "Ashutosh Sharma",
      "userId": "03950969127841131337"
     },
     "user_tz": -330
    },
    "id": "F4x4v485CoxH"
   },
   "outputs": [],
   "source": [
    "def convert_tensor_list_to_single_mean_value(tensor_list):\n",
    "\n",
    "    tensor_list = [tensor.detach().cpu().numpy() for tensor in tensor_list]\n",
    "\n",
    "    return np.mean(tensor_list)"
   ]
  },
  {
   "cell_type": "markdown",
   "metadata": {},
   "source": [
    "# Training the Model"
   ]
  },
  {
   "cell_type": "code",
   "execution_count": 22,
   "metadata": {
    "colab": {
     "background_save": true,
     "base_uri": "https://localhost:8080/",
     "height": 1000,
     "referenced_widgets": [
      "a8b469aff3dd43e3aa93e1c691f31138",
      "25acad96c3af4ac2b73d53bbb553fd76",
      "698e51bb27cc4634a120a668a5513cce",
      "9d8f8651485d42a2b1172f39d39b5752",
      "8db4580048c347e7bc7dcf67e402eb94",
      "76805debba97413aa8bebc29bfe55a77",
      "e298f7d285c74d9e8d6d7845966158e3",
      "c2f8f40a8c8844ae8fa40fc241f64d6e",
      "084a6328c92947639aef2f269d60cae0",
      "8b0a9bd9ae6f4c03af32ce71d4959025",
      "11a89dc8945345c28ff406b2fe9f976d"
     ]
    },
    "execution": {
     "iopub.execute_input": "2024-03-12T04:34:26.967282Z",
     "iopub.status.busy": "2024-03-12T04:34:26.966531Z",
     "iopub.status.idle": "2024-03-12T04:44:26.321638Z",
     "shell.execute_reply": "2024-03-12T04:44:26.320502Z",
     "shell.execute_reply.started": "2024-03-12T04:34:26.967247Z"
    },
    "id": "cBvB1O9Clkt2",
    "outputId": "0a63dc02-640d-4e67-e471-49299e0f118e"
   },
   "outputs": [
    {
     "name": "stdout",
     "output_type": "stream",
     "text": [
      "Epoch 1 / 1\n",
      "==========\n"
     ]
    },
    {
     "data": {
      "application/vnd.jupyter.widget-view+json": {
       "model_id": "725773b2ecdf400594ac296aaf192a01",
       "version_major": 2,
       "version_minor": 0
      },
      "text/plain": [
       "  0%|          | 0/938 [00:00<?, ?it/s]"
      ]
     },
     "metadata": {},
     "output_type": "display_data"
    },
    {
     "name": "stdout",
     "output_type": "stream",
     "text": [
      "Loss: 1.3516302108764648, Accuracy: 43.75\n"
     ]
    },
    {
     "name": "stderr",
     "output_type": "stream",
     "text": [
      "/tmp/ipykernel_34/2491658244.py:31: UserWarning: To copy construct from a tensor, it is recommended to use sourceTensor.clone().detach() or sourceTensor.clone().detach().requires_grad_(True), rather than torch.tensor(sourceTensor).\n",
      "  train_loss.append(torch.tensor(loss))\n"
     ]
    },
    {
     "name": "stdout",
     "output_type": "stream",
     "text": [
      "Loss: 1.3409669399261475, Accuracy: 39.77272727272727\n",
      "Loss: 1.4766849279403687, Accuracy: 38.392857142857146\n",
      "Loss: 1.164479374885559, Accuracy: 38.00403225806452\n",
      "Loss: 1.360531210899353, Accuracy: 38.64329268292683\n",
      "Loss: 1.395958662033081, Accuracy: 38.72549019607843\n",
      "Loss: 1.2904011011123657, Accuracy: 38.98565573770492\n",
      "Loss: 1.039555311203003, Accuracy: 38.99647887323944\n",
      "Loss: 1.5957282781600952, Accuracy: 38.27160493827161\n",
      "Loss: 1.0764493942260742, Accuracy: 38.5989010989011\n",
      "Loss: 1.1914849281311035, Accuracy: 38.211633663366335\n",
      "Loss: 1.0801615715026855, Accuracy: 38.119369369369366\n",
      "Loss: 1.154944896697998, Accuracy: 38.37809917355372\n",
      "Loss: 1.2356473207473755, Accuracy: 38.64503816793893\n",
      "Loss: 1.2113771438598633, Accuracy: 38.519503546099294\n",
      "Loss: 1.1395596265792847, Accuracy: 38.80380794701987\n",
      "Loss: 1.1028187274932861, Accuracy: 38.76164596273292\n",
      "Loss: 1.1326189041137695, Accuracy: 38.998538011695906\n",
      "Loss: 1.4420063495635986, Accuracy: 39.226519337016576\n",
      "Loss: 1.1099681854248047, Accuracy: 39.54515706806283\n",
      "Loss: 1.2219181060791016, Accuracy: 39.50559701492537\n",
      "Loss: 0.8696656227111816, Accuracy: 39.795616113744074\n",
      "Loss: 1.1645538806915283, Accuracy: 39.86142533936651\n",
      "Loss: 0.9424013495445251, Accuracy: 40.0974025974026\n",
      "Loss: 1.15305757522583, Accuracy: 40.261929460580916\n",
      "Loss: 1.0671260356903076, Accuracy: 40.363545816733065\n",
      "Loss: 0.9588141441345215, Accuracy: 40.589080459770116\n",
      "Loss: 1.1219500303268433, Accuracy: 40.75184501845018\n",
      "Loss: 0.9797029495239258, Accuracy: 41.036476868327405\n",
      "Loss: 1.0723823308944702, Accuracy: 41.45189003436426\n",
      "Loss: 1.3316808938980103, Accuracy: 41.69435215946844\n",
      "Loss: 1.0256747007369995, Accuracy: 42.132234726688104\n",
      "Loss: 0.9634236693382263, Accuracy: 42.601246105919\n",
      "Loss: 0.9564521908760071, Accuracy: 42.84365558912387\n",
      "Loss: 0.8742145895957947, Accuracy: 43.07184750733138\n",
      "Loss: 1.0889983177185059, Accuracy: 43.29594017094017\n",
      "Loss: 1.107972264289856, Accuracy: 43.533587257617725\n",
      "Loss: 0.9174109101295471, Accuracy: 43.867924528301884\n",
      "Loss: 1.0084606409072876, Accuracy: 44.348753280839894\n",
      "Loss: 0.9814342260360718, Accuracy: 44.669117647058826\n",
      "Loss: 0.7636138796806335, Accuracy: 45.074812967581046\n",
      "Loss: 1.0138590335845947, Accuracy: 45.37712895377129\n",
      "Loss: 0.772322952747345, Accuracy: 45.70219714964371\n",
      "Loss: 0.794152557849884, Accuracy: 46.01218097447796\n",
      "Loss: 0.7976966500282288, Accuracy: 46.49234693877551\n",
      "Loss: 0.9542398452758789, Accuracy: 46.847283813747225\n",
      "Loss: 0.7655320763587952, Accuracy: 47.12581344902386\n",
      "Loss: 0.7350502014160156, Accuracy: 47.531847133757964\n",
      "Loss: 1.2702502012252808, Accuracy: 47.83653846153846\n",
      "Loss: 0.7727774977684021, Accuracy: 48.24338085539715\n",
      "Loss: 0.6531302332878113, Accuracy: 48.62774451097805\n",
      "Loss: 0.7323888540267944, Accuracy: 49.039872798434445\n",
      "Loss: 0.9308789968490601, Accuracy: 49.37619961612284\n",
      "Loss: 0.7812827229499817, Accuracy: 49.78225047080979\n",
      "Loss: 0.6651432514190674, Accuracy: 50.18484288354898\n",
      "Loss: 0.7367950081825256, Accuracy: 50.544464609800364\n",
      "Loss: 0.568206250667572, Accuracy: 50.94139928698752\n",
      "Loss: 0.7140085697174072, Accuracy: 51.24781085814361\n",
      "Loss: 0.46685537695884705, Accuracy: 51.54905335628227\n",
      "Loss: 0.5479788184165955, Accuracy: 51.8824027072758\n",
      "Loss: 0.5973668694496155, Accuracy: 52.13706322795341\n",
      "Loss: 0.6395416855812073, Accuracy: 52.47033551554828\n",
      "Loss: 0.6994038820266724, Accuracy: 52.82809983896941\n",
      "Loss: 0.5365051627159119, Accuracy: 53.14480982567353\n",
      "Loss: 0.5713014006614685, Accuracy: 53.48088923556942\n",
      "Loss: 0.45937439799308777, Accuracy: 53.821044546851\n",
      "Loss: 0.3730500638484955, Accuracy: 54.113086232980336\n",
      "Loss: 0.5487326979637146, Accuracy: 54.45696721311475\n",
      "Loss: 0.559647262096405, Accuracy: 54.79533773861968\n",
      "Loss: 0.6246519684791565, Accuracy: 55.173661360347324\n",
      "Loss: 0.6836186647415161, Accuracy: 55.447574893009985\n",
      "Loss: 0.4726138114929199, Accuracy: 55.72696905766526\n",
      "Loss: 0.5898199081420898, Accuracy: 55.99427877947296\n",
      "Loss: 0.5838953256607056, Accuracy: 56.284199726402186\n",
      "Loss: 0.627775251865387, Accuracy: 56.578947368421055\n",
      "Loss: 0.911397397518158, Accuracy: 56.811750998668444\n",
      "Loss: 0.6267394423484802, Accuracy: 57.06307490144547\n",
      "Loss: 0.4548397958278656, Accuracy: 57.291666666666664\n",
      "Loss: 0.7064918279647827, Accuracy: 57.5104033290653\n",
      "Loss: 0.5292450785636902, Accuracy: 57.79077117572693\n",
      "Loss: 0.7082288861274719, Accuracy: 58.017322097378276\n",
      "Loss: 0.48573920130729675, Accuracy: 58.315351418002464\n",
      "Loss: 0.5263159275054932, Accuracy: 58.59089524969549\n",
      "Loss: 0.6291811466217041, Accuracy: 58.84476534296029\n",
      "Loss: 0.5118105411529541, Accuracy: 59.070303210463734\n",
      "Loss: 0.39816153049468994, Accuracy: 59.312573443008226\n",
      "Loss: 0.41464272141456604, Accuracy: 59.49114401858304\n",
      "Loss: 0.46865135431289673, Accuracy: 59.71943168771527\n",
      "Loss: 0.4259590804576874, Accuracy: 59.93544267877412\n",
      "Loss: 0.5519140362739563, Accuracy: 60.17115600448934\n",
      "Loss: 0.6201570630073547, Accuracy: 60.429384017758046\n",
      "Loss: 0.30700528621673584, Accuracy: 60.657930845225025\n",
      "Loss: 1.0053409337997437, Accuracy: 60.78990228013029\n",
      "Loss: 0.4807577133178711, Accuracy: 60.992883995703544\n",
      "Train loss: 0.8515053987503052\n",
      "Train accuracy: 48.13740921020508\n",
      "\n"
     ]
    },
    {
     "data": {
      "application/vnd.jupyter.widget-view+json": {
       "model_id": "ef5a0a6ac9ca459b9f09493e84f18819",
       "version_major": 2,
       "version_minor": 0
      },
      "text/plain": [
       "  0%|          | 0/938 [00:00<?, ?it/s]"
      ]
     },
     "metadata": {},
     "output_type": "display_data"
    },
    {
     "name": "stderr",
     "output_type": "stream",
     "text": [
      "/tmp/ipykernel_34/4206507292.py:26: UserWarning: To copy construct from a tensor, it is recommended to use sourceTensor.clone().detach() or sourceTensor.clone().detach().requires_grad_(True), rather than torch.tensor(sourceTensor).\n",
      "  val_loss.append(torch.tensor(loss))\n"
     ]
    },
    {
     "name": "stdout",
     "output_type": "stream",
     "text": [
      "Val loss: 0.42116478085517883\n",
      "Val accuracy: 90.39885711669922\n",
      "\n"
     ]
    }
   ],
   "source": [
    "history = defaultdict(list)\n",
    "best_accuracy = 0\n",
    "model_name = \"ensemble\"\n",
    "\n",
    "for epoch in range(1):\n",
    "    print(f\"Epoch {epoch + 1} / {1}\")\n",
    "    print('=' * 10)\n",
    "\n",
    "    train_accuracy, train_loss = train_one_epoch(model=model, optimizer=optimizer, data_loader=train_loader, device=device)\n",
    "    train_accuracy = convert_tensor_list_to_single_mean_value(tensor_list=train_accuracy)\n",
    "    train_loss = convert_tensor_list_to_single_mean_value(tensor_list=train_loss)\n",
    "    print(f'Train loss: {train_loss}\\nTrain accuracy: {train_accuracy}\\n')\n",
    "\n",
    "    val_accuracy, val_loss = test_model(model=model, data_loader=val_loader, device=device)\n",
    "    val_accuracy = convert_tensor_list_to_single_mean_value(tensor_list=val_accuracy)\n",
    "    val_loss = convert_tensor_list_to_single_mean_value(tensor_list=val_loss)\n",
    "    print(f'Val loss: {val_loss}\\nVal accuracy: {val_accuracy}\\n')\n",
    "\n",
    "    history['train_acc'].append(train_accuracy)\n",
    "    history['train_loss'].append(train_loss)\n",
    "    history['val_acc'].append(val_accuracy)\n",
    "    history['val_loss'].append(val_loss)\n",
    "\n",
    "    if(val_accuracy > best_accuracy):\n",
    "        torch.save(model.state_dict(),\n",
    "                   f'{model_name}_epochs_{1}_batchsize_{32}_lr_{1e-4}.bin')\n",
    "        best_accuracy = val_accuracy"
   ]
  },
  {
   "cell_type": "code",
   "execution_count": 23,
   "metadata": {
    "execution": {
     "iopub.execute_input": "2024-03-12T04:44:47.152496Z",
     "iopub.status.busy": "2024-03-12T04:44:47.152134Z",
     "iopub.status.idle": "2024-03-12T04:44:47.156950Z",
     "shell.execute_reply": "2024-03-12T04:44:47.155956Z",
     "shell.execute_reply.started": "2024-03-12T04:44:47.152468Z"
    },
    "id": "8_LGiHC4B1PS"
   },
   "outputs": [],
   "source": [
    "from matplotlib.ticker import MaxNLocator\n",
    "import gc"
   ]
  },
  {
   "cell_type": "code",
   "execution_count": 25,
   "metadata": {
    "execution": {
     "iopub.execute_input": "2024-03-12T04:45:49.996390Z",
     "iopub.status.busy": "2024-03-12T04:45:49.995963Z",
     "iopub.status.idle": "2024-03-12T04:45:50.003165Z",
     "shell.execute_reply": "2024-03-12T04:45:50.002086Z",
     "shell.execute_reply.started": "2024-03-12T04:45:49.996349Z"
    }
   },
   "outputs": [
    {
     "data": {
      "text/plain": [
       "defaultdict(list,\n",
       "            {'train_acc': [48.13741],\n",
       "             'train_loss': [0.8515054],\n",
       "             'val_acc': [90.39886],\n",
       "             'val_loss': [0.42116478]})"
      ]
     },
     "execution_count": 25,
     "metadata": {},
     "output_type": "execute_result"
    }
   ],
   "source": [
    "history"
   ]
  },
  {
   "cell_type": "code",
   "execution_count": null,
   "metadata": {
    "execution": {
     "iopub.status.busy": "2024-03-12T04:34:09.099465Z",
     "iopub.status.idle": "2024-03-12T04:34:09.099825Z",
     "shell.execute_reply": "2024-03-12T04:34:09.099648Z",
     "shell.execute_reply.started": "2024-03-12T04:34:09.099634Z"
    },
    "id": "dc-PQV9uBYFX"
   },
   "outputs": [],
   "source": [
    "del model, train_loader, history\n",
    "gc.collect()"
   ]
  },
  {
   "cell_type": "code",
   "execution_count": 29,
   "metadata": {
    "execution": {
     "iopub.execute_input": "2024-03-12T04:48:34.500542Z",
     "iopub.status.busy": "2024-03-12T04:48:34.499849Z",
     "iopub.status.idle": "2024-03-12T04:48:34.504665Z",
     "shell.execute_reply": "2024-03-12T04:48:34.503758Z",
     "shell.execute_reply.started": "2024-03-12T04:48:34.500504Z"
    }
   },
   "outputs": [],
   "source": [
    "import torch.nn.functional as nnf"
   ]
  },
  {
   "cell_type": "markdown",
   "metadata": {},
   "source": [
    "# Model Predictions"
   ]
  },
  {
   "cell_type": "code",
   "execution_count": 31,
   "metadata": {
    "execution": {
     "iopub.execute_input": "2024-03-12T04:53:20.117910Z",
     "iopub.status.busy": "2024-03-12T04:53:20.117149Z",
     "iopub.status.idle": "2024-03-12T04:55:57.449558Z",
     "shell.execute_reply": "2024-03-12T04:55:57.448625Z",
     "shell.execute_reply.started": "2024-03-12T04:53:20.117878Z"
    },
    "id": "guqtKVWPCC2s"
   },
   "outputs": [
    {
     "data": {
      "application/vnd.jupyter.widget-view+json": {
       "model_id": "f4465d878c074425a10cb9b24fffc5b5",
       "version_major": 2,
       "version_minor": 0
      },
      "text/plain": [
       "  0%|          | 0/938 [00:00<?, ?it/s]"
      ]
     },
     "metadata": {},
     "output_type": "display_data"
    },
    {
     "name": "stderr",
     "output_type": "stream",
     "text": [
      "/tmp/ipykernel_34/4062267037.py:36: UserWarning: To copy construct from a tensor, it is recommended to use sourceTensor.clone().detach() or sourceTensor.clone().detach().requires_grad_(True), rather than torch.tensor(sourceTensor).\n",
      "  val_loss.append(torch.tensor(loss))\n"
     ]
    }
   ],
   "source": [
    "def get_model_predictions(model, data_loader, device):\n",
    "\n",
    "    model.eval()\n",
    "\n",
    "    total = 0\n",
    "    correct = 0\n",
    "    val_accuracy = []\n",
    "    val_loss = []\n",
    "    y_test_all = []\n",
    "    y_pred_all = []\n",
    "    y_pred_prob_all = []\n",
    "\n",
    "    with torch.no_grad():\n",
    "        for i, data in enumerate(tqdm(data_loader)):\n",
    "            images, labels = data\n",
    "\n",
    "            images = images.to(device)\n",
    "            labels = labels.to(device)\n",
    "            y_test_all.append(labels)\n",
    "\n",
    "            y_pred = model(images.float())\n",
    "#             print(\"y_pred:\", y_pred, y_pred.shape)\n",
    "            prob = nnf.softmax(y_pred, dim=1)\n",
    "#             print(\"prob:\", prob, prob.shape)\n",
    "            loss = criterion(y_pred, labels)\n",
    "\n",
    "            _, predicted = torch.max(y_pred.data, 1)\n",
    "#             print(\"predicted\", predicted, predicted.shape)\n",
    "            y_pred_prob_all.append(prob)\n",
    "            y_pred_all.append(predicted)\n",
    "            total += labels.size(0)\n",
    "            correct += (predicted == labels).sum().item()\n",
    "            accuracy = 100 * correct / total\n",
    "\n",
    "            val_accuracy.append(torch.tensor(accuracy))\n",
    "            val_loss.append(torch.tensor(loss))\n",
    "\n",
    "    return val_accuracy, val_loss, y_test_all, y_pred_all, y_pred_prob_all\n",
    "test_accuracy, test_loss, y_test, y_pred, y_pred_prob = get_model_predictions(model=model, data_loader=val_loader, device=device)"
   ]
  },
  {
   "cell_type": "code",
   "execution_count": 32,
   "metadata": {
    "execution": {
     "iopub.execute_input": "2024-03-12T04:56:10.776945Z",
     "iopub.status.busy": "2024-03-12T04:56:10.776249Z",
     "iopub.status.idle": "2024-03-12T04:56:10.833358Z",
     "shell.execute_reply": "2024-03-12T04:56:10.832514Z",
     "shell.execute_reply.started": "2024-03-12T04:56:10.776911Z"
    },
    "id": "ERM1JcDLN7Vd"
   },
   "outputs": [],
   "source": [
    "def get_flat_arrays(arrays):\n",
    "    arrays = [tensor.detach().cpu().numpy() for tensor in arrays]\n",
    "    arrays = np.concatenate(arrays)\n",
    "    arrays = arrays.ravel()\n",
    "\n",
    "    return arrays\n",
    "\n",
    "y_test = get_flat_arrays(arrays=y_test)\n",
    "y_pred = get_flat_arrays(arrays=y_pred)"
   ]
  },
  {
   "cell_type": "code",
   "execution_count": 34,
   "metadata": {
    "execution": {
     "iopub.execute_input": "2024-03-12T04:56:44.388407Z",
     "iopub.status.busy": "2024-03-12T04:56:44.388053Z",
     "iopub.status.idle": "2024-03-12T04:56:44.393161Z",
     "shell.execute_reply": "2024-03-12T04:56:44.392078Z",
     "shell.execute_reply.started": "2024-03-12T04:56:44.388380Z"
    }
   },
   "outputs": [],
   "source": [
    "import sklearn\n",
    "from sklearn.metrics import classification_report, f1_score, precision_score, recall_score, confusion_matrix, roc_curve, auc, roc_auc_score"
   ]
  },
  {
   "cell_type": "markdown",
   "metadata": {},
   "source": [
    "# Classification Report and Confusion Matrix"
   ]
  },
  {
   "cell_type": "code",
   "execution_count": 35,
   "metadata": {
    "execution": {
     "iopub.execute_input": "2024-03-12T04:56:44.747759Z",
     "iopub.status.busy": "2024-03-12T04:56:44.746837Z",
     "iopub.status.idle": "2024-03-12T04:56:45.171196Z",
     "shell.execute_reply": "2024-03-12T04:56:45.170163Z",
     "shell.execute_reply.started": "2024-03-12T04:56:44.747719Z"
    },
    "id": "lqBdfhCmOCB9"
   },
   "outputs": [
    {
     "name": "stdout",
     "output_type": "stream",
     "text": [
      "========== For Ensemble_DenseNet161_DenseNet201_Epochs_1 ==========\n",
      "\n",
      "Classification Report:\n",
      "              precision    recall  f1-score   support\n",
      "\n",
      "           0       0.78      0.96      0.86     10000\n",
      "           1       0.92      0.77      0.84     10000\n",
      "           2       0.85      0.79      0.82     10000\n",
      "\n",
      "    accuracy                           0.84     30000\n",
      "   macro avg       0.85      0.84      0.84     30000\n",
      "weighted avg       0.85      0.84      0.84     30000\n",
      "\n",
      "\n",
      "\n",
      "F1 Score: 0.8388286929313118\n",
      "Precision: 0.848309338457389\n",
      "Recall: 0.8399666666666666\n",
      "\n",
      "\n"
     ]
    },
    {
     "data": {
      "image/png": "[encoded data removed]",
      "text/plain": [
       "<Figure size 800x500 with 2 Axes>"
      ]
     },
     "metadata": {},
     "output_type": "display_data"
    },
    {
     "name": "stdout",
     "output_type": "stream",
     "text": [
      "\n",
      "\n"
     ]
    }
   ],
   "source": [
    "def get_model_classification_report_and_confusion_matrix(model_name, y_test, y_pred):\n",
    "\n",
    "    print(\"=\" * 10, f\"For {model_name}\", \"=\" * 10)\n",
    "    print(\"\\nClassification Report:\")\n",
    "    print(classification_report(y_test, y_pred))\n",
    "    print(\"\\n\")\n",
    "    print(f\"F1 Score: {f1_score(y_test, y_pred, average = 'weighted')}\")\n",
    "    print(f\"Precision: {precision_score(y_test, y_pred, average = 'weighted')}\")\n",
    "    print(f\"Recall: {recall_score(y_test, y_pred, average = 'weighted')}\")\n",
    "    print(\"\\n\")\n",
    "    plt.figure(figsize = (8, 5))\n",
    "    ax = plt.axes()\n",
    "    ax = sns.heatmap(confusion_matrix(y_test, y_pred), annot = True, square = True, fmt = \"d\", cmap = \"Blues\", cbar = True, annot_kws={'size': 15})\n",
    "    ax.xaxis.set_tick_params(labelsize = 10)\n",
    "    ax.yaxis.set_tick_params(labelsize = 10)\n",
    "    plt.title(f\"Confusion Matrix ({model_name})\", fontsize = 15)\n",
    "    plt.ylabel(\"Actual Classes\", fontsize = 15)\n",
    "    plt.xlabel(\"Predicted Classes\", fontsize = 15)\n",
    "    plt.show()\n",
    "    print(\"\\n\")\n",
    "\n",
    "get_model_classification_report_and_confusion_matrix(\"Ensemble_DenseNet161_DenseNet201_Epochs_1\", y_test, y_pred)"
   ]
  },
  {
   "cell_type": "code",
   "execution_count": 36,
   "metadata": {
    "execution": {
     "iopub.execute_input": "2024-03-12T04:57:00.286401Z",
     "iopub.status.busy": "2024-03-12T04:57:00.285795Z",
     "iopub.status.idle": "2024-03-12T04:57:00.294887Z",
     "shell.execute_reply": "2024-03-12T04:57:00.293932Z",
     "shell.execute_reply.started": "2024-03-12T04:57:00.286368Z"
    },
    "id": "axepscoJPoYQ"
   },
   "outputs": [],
   "source": [
    "def one_hot_encode_array(array, num_classes):\n",
    "\n",
    "    return np.squeeze(np.eye(num_classes)[array.reshape(-1)])\n",
    "\n",
    "y_test = one_hot_encode_array(array=y_test, num_classes=len(classes))\n",
    "y_pred = one_hot_encode_array(array=y_pred, num_classes=len(classes))\n",
    "\n",
    "def get_flattened_array(array):\n",
    "\n",
    "    flattened_array = []\n",
    "\n",
    "    for row in array:\n",
    "        for col in row:\n",
    "            flattened_array.append(col)\n",
    "\n",
    "    return flattened_array\n",
    "\n",
    "def get_required_array_format(array):\n",
    "\n",
    "    array = get_flattened_array(array)\n",
    "    array = [tensor.detach().cpu().numpy() for tensor in array]\n",
    "    array = np.array(array)\n",
    "\n",
    "    return array"
   ]
  },
  {
   "cell_type": "code",
   "execution_count": 38,
   "metadata": {
    "execution": {
     "iopub.execute_input": "2024-03-12T04:58:21.008651Z",
     "iopub.status.busy": "2024-03-12T04:58:21.008295Z",
     "iopub.status.idle": "2024-03-12T04:58:21.771437Z",
     "shell.execute_reply": "2024-03-12T04:58:21.770432Z",
     "shell.execute_reply.started": "2024-03-12T04:58:21.008626Z"
    }
   },
   "outputs": [],
   "source": [
    "y_pred_prob = get_required_array_format(y_pred_prob)"
   ]
  },
  {
   "cell_type": "markdown",
   "metadata": {},
   "source": [
    "# ROC-AUC Curves"
   ]
  },
  {
   "cell_type": "code",
   "execution_count": 39,
   "metadata": {
    "execution": {
     "iopub.execute_input": "2024-03-12T04:58:21.786462Z",
     "iopub.status.busy": "2024-03-12T04:58:21.785563Z",
     "iopub.status.idle": "2024-03-12T04:58:22.127087Z",
     "shell.execute_reply": "2024-03-12T04:58:22.126134Z",
     "shell.execute_reply.started": "2024-03-12T04:58:21.786425Z"
    },
    "id": "SXQTZnUQT_jK"
   },
   "outputs": [
    {
     "data": {
      "image/png": "[encoded data removed]",
      "text/plain": [
       "<Figure size 640x480 with 1 Axes>"
      ]
     },
     "metadata": {},
     "output_type": "display_data"
    }
   ],
   "source": [
    "def plot_auc_score_and_multiclass_roc_curves(y_test, y_pred_prob, model_name):\n",
    "\n",
    "    fpr = dict()\n",
    "    tpr = dict()\n",
    "    roc_auc = dict()\n",
    "    n_classes = len(classes)\n",
    "\n",
    "    for i in range(n_classes):\n",
    "        fpr[i], tpr[i], _ = roc_curve(y_test[:, i], y_pred_prob[:, i], )\n",
    "        roc_auc[i] = auc(fpr[i], tpr[i])\n",
    "\n",
    "    plt.figure()\n",
    "    lw = 2\n",
    "    for i in range(len(classes)):\n",
    "        plt.plot(fpr[i], tpr[i], lw=lw, label='ROC curve (area = %0.2f)' % roc_auc[i])\n",
    "    plt.plot([0, 1], [0, 1], color='red', lw=lw, linestyle='--')\n",
    "    plt.xlim([0.0, 1.0])\n",
    "    plt.ylim([0.0, 1.05])\n",
    "    plt.xlabel('False Positive Rate')\n",
    "    plt.ylabel('True Positive Rate')\n",
    "    plt.title(f'Multiclass ROC Curves ({model_name})')\n",
    "    plt.legend(loc=\"lower right\")\n",
    "    plt.show()\n",
    "\n",
    "plot_auc_score_and_multiclass_roc_curves(y_test, y_pred_prob, \"Ensemble_DenseNet161_DenseNet201_Epochs_1\")"
   ]
  },
  {
   "cell_type": "markdown",
   "metadata": {},
   "source": [
    "# AUC Score"
   ]
  },
  {
   "cell_type": "code",
   "execution_count": 40,
   "metadata": {
    "execution": {
     "iopub.execute_input": "2024-03-12T04:58:42.829449Z",
     "iopub.status.busy": "2024-03-12T04:58:42.829077Z",
     "iopub.status.idle": "2024-03-12T04:58:42.892488Z",
     "shell.execute_reply": "2024-03-12T04:58:42.890493Z",
     "shell.execute_reply.started": "2024-03-12T04:58:42.829419Z"
    },
    "id": "rw0XUFj6VSS_"
   },
   "outputs": [
    {
     "name": "stdout",
     "output_type": "stream",
     "text": [
      "========== For Ensemble_DenseNet161_DenseNet201_Epochs_1 ==========\n",
      "AUC (OVO): 0.95\n",
      "AUC (OVR): 0.95\n"
     ]
    }
   ],
   "source": [
    "def get_auc_score(y_test, y_pred_prob, model_name):\n",
    "\n",
    "    print(10 * \"=\", f\"For {model_name}\", 10 * \"=\")\n",
    "\n",
    "    auc_ovo = roc_auc_score(y_test, y_pred_prob, multi_class=\"ovo\")\n",
    "    auc_ovr = roc_auc_score(y_test, y_pred_prob, multi_class=\"ovr\")\n",
    "\n",
    "    print('AUC (OVO): %.2f' % auc_ovo)\n",
    "    print('AUC (OVR): %.2f' % auc_ovr)\n",
    "\n",
    "get_auc_score(y_test, y_pred_prob, \"Ensemble_DenseNet161_DenseNet201_Epochs_1\")"
   ]
  }
 ],
 "metadata": {
  "accelerator": "GPU",
  "colab": {
   "authorship_tag": "ABX9TyNEyvqj/OJT8hETpz7+DOiR",
   "gpuType": "T4",
   "provenance": []
  },
  "kaggle": {
   "accelerator": "gpu",
   "dataSources": [
    {
     "datasetId": 4582028,
     "sourceId": 7820563,
     "sourceType": "datasetVersion"
    }
   ],
   "dockerImageVersionId": 30665,
   "isGpuEnabled": true,
   "isInternetEnabled": true,
   "language": "python",
   "sourceType": "notebook"
  },
  "kernelspec": {
   "display_name": "Python 3",
   "language": "python",
   "name": "python3"
  },
  "language_info": {
   "codemirror_mode": {
    "name": "ipython",
    "version": 3
   },
   "file_extension": ".py",
   "mimetype": "text/x-python",
   "name": "python",
   "nbconvert_exporter": "python",
   "pygments_lexer": "ipython3",
   "version": "3.9.4"
  },
  "widgets": {
   "application/vnd.jupyter.widget-state+json": {
    "084a6328c92947639aef2f269d60cae0": {
     "model_module": "@jupyter-widgets/controls",
     "model_module_version": "1.5.0",
     "model_name": "ProgressStyleModel",
     "state": {
      "_model_module": "@jupyter-widgets/controls",
      "_model_module_version": "1.5.0",
      "_model_name": "ProgressStyleModel",
      "_view_count": null,
      "_view_module": "@jupyter-widgets/base",
      "_view_module_version": "1.2.0",
      "_view_name": "StyleView",
      "bar_color": null,
      "description_width": ""
     }
    },
    "11a89dc8945345c28ff406b2fe9f976d": {
     "model_module": "@jupyter-widgets/controls",
     "model_module_version": "1.5.0",
     "model_name": "DescriptionStyleModel",
     "state": {
      "_model_module": "@jupyter-widgets/controls",
      "_model_module_version": "1.5.0",
      "_model_name": "DescriptionStyleModel",
      "_view_count": null,
      "_view_module": "@jupyter-widgets/base",
      "_view_module_version": "1.2.0",
      "_view_name": "StyleView",
      "description_width": ""
     }
    },
    "25acad96c3af4ac2b73d53bbb553fd76": {
     "model_module": "@jupyter-widgets/controls",
     "model_module_version": "1.5.0",
     "model_name": "HTMLModel",
     "state": {
      "_dom_classes": [],
      "_model_module": "@jupyter-widgets/controls",
      "_model_module_version": "1.5.0",
      "_model_name": "HTMLModel",
      "_view_count": null,
      "_view_module": "@jupyter-widgets/controls",
      "_view_module_version": "1.5.0",
      "_view_name": "HTMLView",
      "description": "",
      "description_tooltip": null,
      "layout": "IPY_MODEL_76805debba97413aa8bebc29bfe55a77",
      "placeholder": "​",
      "style": "IPY_MODEL_e298f7d285c74d9e8d6d7845966158e3",
      "value": " 73%"
     }
    },
    "698e51bb27cc4634a120a668a5513cce": {
     "model_module": "@jupyter-widgets/controls",
     "model_module_version": "1.5.0",
     "model_name": "FloatProgressModel",
     "state": {
      "_dom_classes": [],
      "_model_module": "@jupyter-widgets/controls",
      "_model_module_version": "1.5.0",
      "_model_name": "FloatProgressModel",
      "_view_count": null,
      "_view_module": "@jupyter-widgets/controls",
      "_view_module_version": "1.5.0",
      "_view_name": "ProgressView",
      "bar_style": "",
      "description": "",
      "description_tooltip": null,
      "layout": "IPY_MODEL_c2f8f40a8c8844ae8fa40fc241f64d6e",
      "max": 938,
      "min": 0,
      "orientation": "horizontal",
      "style": "IPY_MODEL_084a6328c92947639aef2f269d60cae0",
      "value": 681
     }
    },
    "76805debba97413aa8bebc29bfe55a77": {
     "model_module": "@jupyter-widgets/base",
     "model_module_version": "1.2.0",
     "model_name": "LayoutModel",
     "state": {
      "_model_module": "@jupyter-widgets/base",
      "_model_module_version": "1.2.0",
      "_model_name": "LayoutModel",
      "_view_count": null,
      "_view_module": "@jupyter-widgets/base",
      "_view_module_version": "1.2.0",
      "_view_name": "LayoutView",
      "align_content": null,
      "align_items": null,
      "align_self": null,
      "border": null,
      "bottom": null,
      "display": null,
      "flex": null,
      "flex_flow": null,
      "grid_area": null,
      "grid_auto_columns": null,
      "grid_auto_flow": null,
      "grid_auto_rows": null,
      "grid_column": null,
      "grid_gap": null,
      "grid_row": null,
      "grid_template_areas": null,
      "grid_template_columns": null,
      "grid_template_rows": null,
      "height": null,
      "justify_content": null,
      "justify_items": null,
      "left": null,
      "margin": null,
      "max_height": null,
      "max_width": null,
      "min_height": null,
      "min_width": null,
      "object_fit": null,
      "object_position": null,
      "order": null,
      "overflow": null,
      "overflow_x": null,
      "overflow_y": null,
      "padding": null,
      "right": null,
      "top": null,
      "visibility": null,
      "width": null
     }
    },
    "8b0a9bd9ae6f4c03af32ce71d4959025": {
     "model_module": "@jupyter-widgets/base",
     "model_module_version": "1.2.0",
     "model_name": "LayoutModel",
     "state": {
      "_model_module": "@jupyter-widgets/base",
      "_model_module_version": "1.2.0",
      "_model_name": "LayoutModel",
      "_view_count": null,
      "_view_module": "@jupyter-widgets/base",
      "_view_module_version": "1.2.0",
      "_view_name": "LayoutView",
      "align_content": null,
      "align_items": null,
      "align_self": null,
      "border": null,
      "bottom": null,
      "display": null,
      "flex": null,
      "flex_flow": null,
      "grid_area": null,
      "grid_auto_columns": null,
      "grid_auto_flow": null,
      "grid_auto_rows": null,
      "grid_column": null,
      "grid_gap": null,
      "grid_row": null,
      "grid_template_areas": null,
      "grid_template_columns": null,
      "grid_template_rows": null,
      "height": null,
      "justify_content": null,
      "justify_items": null,
      "left": null,
      "margin": null,
      "max_height": null,
      "max_width": null,
      "min_height": null,
      "min_width": null,
      "object_fit": null,
      "object_position": null,
      "order": null,
      "overflow": null,
      "overflow_x": null,
      "overflow_y": null,
      "padding": null,
      "right": null,
      "top": null,
      "visibility": null,
      "width": null
     }
    },
    "8db4580048c347e7bc7dcf67e402eb94": {
     "model_module": "@jupyter-widgets/base",
     "model_module_version": "1.2.0",
     "model_name": "LayoutModel",
     "state": {
      "_model_module": "@jupyter-widgets/base",
      "_model_module_version": "1.2.0",
      "_model_name": "LayoutModel",
      "_view_count": null,
      "_view_module": "@jupyter-widgets/base",
      "_view_module_version": "1.2.0",
      "_view_name": "LayoutView",
      "align_content": null,
      "align_items": null,
      "align_self": null,
      "border": null,
      "bottom": null,
      "display": null,
      "flex": null,
      "flex_flow": null,
      "grid_area": null,
      "grid_auto_columns": null,
      "grid_auto_flow": null,
      "grid_auto_rows": null,
      "grid_column": null,
      "grid_gap": null,
      "grid_row": null,
      "grid_template_areas": null,
      "grid_template_columns": null,
      "grid_template_rows": null,
      "height": null,
      "justify_content": null,
      "justify_items": null,
      "left": null,
      "margin": null,
      "max_height": null,
      "max_width": null,
      "min_height": null,
      "min_width": null,
      "object_fit": null,
      "object_position": null,
      "order": null,
      "overflow": null,
      "overflow_x": null,
      "overflow_y": null,
      "padding": null,
      "right": null,
      "top": null,
      "visibility": null,
      "width": null
     }
    },
    "9d8f8651485d42a2b1172f39d39b5752": {
     "model_module": "@jupyter-widgets/controls",
     "model_module_version": "1.5.0",
     "model_name": "HTMLModel",
     "state": {
      "_dom_classes": [],
      "_model_module": "@jupyter-widgets/controls",
      "_model_module_version": "1.5.0",
      "_model_name": "HTMLModel",
      "_view_count": null,
      "_view_module": "@jupyter-widgets/controls",
      "_view_module_version": "1.5.0",
      "_view_name": "HTMLView",
      "description": "",
      "description_tooltip": null,
      "layout": "IPY_MODEL_8b0a9bd9ae6f4c03af32ce71d4959025",
      "placeholder": "​",
      "style": "IPY_MODEL_11a89dc8945345c28ff406b2fe9f976d",
      "value": " 681/938 [3:06:03&lt;1:08:39, 16.03s/it]"
     }
    },
    "a8b469aff3dd43e3aa93e1c691f31138": {
     "model_module": "@jupyter-widgets/controls",
     "model_module_version": "1.5.0",
     "model_name": "HBoxModel",
     "state": {
      "_dom_classes": [],
      "_model_module": "@jupyter-widgets/controls",
      "_model_module_version": "1.5.0",
      "_model_name": "HBoxModel",
      "_view_count": null,
      "_view_module": "@jupyter-widgets/controls",
      "_view_module_version": "1.5.0",
      "_view_name": "HBoxView",
      "box_style": "",
      "children": [
       "IPY_MODEL_25acad96c3af4ac2b73d53bbb553fd76",
       "IPY_MODEL_698e51bb27cc4634a120a668a5513cce",
       "IPY_MODEL_9d8f8651485d42a2b1172f39d39b5752"
      ],
      "layout": "IPY_MODEL_8db4580048c347e7bc7dcf67e402eb94"
     }
    },
    "c2f8f40a8c8844ae8fa40fc241f64d6e": {
     "model_module": "@jupyter-widgets/base",
     "model_module_version": "1.2.0",
     "model_name": "LayoutModel",
     "state": {
      "_model_module": "@jupyter-widgets/base",
      "_model_module_version": "1.2.0",
      "_model_name": "LayoutModel",
      "_view_count": null,
      "_view_module": "@jupyter-widgets/base",
      "_view_module_version": "1.2.0",
      "_view_name": "LayoutView",
      "align_content": null,
      "align_items": null,
      "align_self": null,
      "border": null,
      "bottom": null,
      "display": null,
      "flex": null,
      "flex_flow": null,
      "grid_area": null,
      "grid_auto_columns": null,
      "grid_auto_flow": null,
      "grid_auto_rows": null,
      "grid_column": null,
      "grid_gap": null,
      "grid_row": null,
      "grid_template_areas": null,
      "grid_template_columns": null,
      "grid_template_rows": null,
      "height": null,
      "justify_content": null,
      "justify_items": null,
      "left": null,
      "margin": null,
      "max_height": null,
      "max_width": null,
      "min_height": null,
      "min_width": null,
      "object_fit": null,
      "object_position": null,
      "order": null,
      "overflow": null,
      "overflow_x": null,
      "overflow_y": null,
      "padding": null,
      "right": null,
      "top": null,
      "visibility": null,
      "width": null
     }
    },
    "e298f7d285c74d9e8d6d7845966158e3": {
     "model_module": "@jupyter-widgets/controls",
     "model_module_version": "1.5.0",
     "model_name": "DescriptionStyleModel",
     "state": {
      "_model_module": "@jupyter-widgets/controls",
      "_model_module_version": "1.5.0",
      "_model_name": "DescriptionStyleModel",
      "_view_count": null,
      "_view_module": "@jupyter-widgets/base",
      "_view_module_version": "1.2.0",
      "_view_name": "StyleView",
      "description_width": ""
     }
    }
   }
  }
 },
 "nbformat": 4,
 "nbformat_minor": 4
}
